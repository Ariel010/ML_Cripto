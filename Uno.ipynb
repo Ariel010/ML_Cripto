{
 "cells": [
  {
   "cell_type": "code",
   "execution_count": null,
   "metadata": {},
   "outputs": [],
   "source": [
    "from datetime import date, timedelta\n",
    "import pandas as pd\n",
    "from binance import Client\n",
    "today = date.today()\n",
    "yesterday = today - timedelta(days=1)\n",
    "from bs4 import BeautifulSoup\n",
    "import requests, csv\n",
    "\n",
    "def criptodata(dataticker):\n",
    "    api_key = 'lLd6kqx72nTP5SXLzdhiO528HF3QqgBbXZqy2md04nnyH9r7JJmj3DwuIOxawAUh' #\"Se saca en: https://testnet.binance.vision/ y se pone con comillas\"\n",
    "    api_secret = '8fgJSsgKRxcFYMG0xpw6NpyFRAiN4b53Nj0GPHpdje0YVbMTjCNAzRSV3U8qO5Gr' #\"Se saca en: https://testnet.binance.vision/ y se pone con comillas\"\n",
    "    client = Client(api_key, api_secret)\n",
    "    price = client.get_symbol_ticker(symbol=dataticker)\n",
    "    #print(price)\n",
    "    asset = dataticker\n",
    "    start = \"2021.01.01\"\n",
    "    end = str(yesterday)\n",
    "    timeframe = \"1d\"\n",
    "    df = pd.DataFrame(client.get_historical_klines(asset,timeframe,start,end))\n",
    "    df = df.iloc[:,:6]\n",
    "    df.columns = [\"Date\",\"Open\",\"High\",\"Low\",\"Close\",\"Volume\"]\n",
    "    df = df.set_index(\"Date\")\n",
    "    df.index = pd.to_datetime(df.index, unit=\"ms\")\n",
    "    df = df.astype(\"float\")\n",
    "    print(df)\n",
    "    #save to csv:\n",
    "    df.to_csv(dataticker + \".csv\", encoding='utf-8')\n",
    "    print(\"Data extraction finished :)\")\n",
    "\n",
    "url = 'https://apewisdom.io/all-crypto/'\n",
    "page = requests.get(url)\n",
    "soup = BeautifulSoup(page.content,'html.parser')\n",
    "criptos = soup.find_all('div',class_='company-name')\n",
    "criptos = str(criptos)\n",
    "criptos = criptos.replace('<div class=\"company-name\">','|')\n",
    "criptos = criptos.replace('</div>,','')\n",
    "criptos = criptos.replace('</div>]','')\n",
    "criptos = criptos.replace('[','')\n",
    "criptoclean = criptos.split('|')\n",
    "criptoclean.pop(0)               #elimino el primer valor que no es significante\n",
    "\n",
    "#print (criptoclean)\n",
    "with open('reddit.csv', 'w', newline='') as csvfile:\n",
    "    writer = csv.writer(csvfile,delimiter=',')\n",
    "    writer.writerow(criptoclean)\n",
    "\n",
    "list = [\"DOGEUSDT\",\"EOSUSDT\",\"BTCUSDT\",\"ETHUSDT\",\"ADAUSDT\",\"XRPUSDT\"]\n",
    "for i in list:\n",
    "    criptodata(i)"
   ]
  }
 ],
 "metadata": {
  "kernelspec": {
   "display_name": "Python 3",
   "language": "python",
   "name": "python3"
  },
  "language_info": {
   "codemirror_mode": {
    "name": "ipython",
    "version": 3
   },
   "file_extension": ".py",
   "mimetype": "text/x-python",
   "name": "python",
   "nbconvert_exporter": "python",
   "pygments_lexer": "ipython3",
   "version": "3.11.3"
  },
  "orig_nbformat": 4
 },
 "nbformat": 4,
 "nbformat_minor": 2
}
